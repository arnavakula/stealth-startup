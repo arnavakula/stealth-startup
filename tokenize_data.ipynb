{
 "cells": [
  {
   "cell_type": "code",
   "execution_count": 1,
   "metadata": {},
   "outputs": [],
   "source": [
    "import numpy as np\n",
    "import pandas as pd\n",
    "import os\n",
    "import tifffile as tiff\n",
    "from skimage.transform import resize\n",
    "import re\n",
    "from collections import defaultdict\n",
    "import shutil"
   ]
  },
  {
   "cell_type": "code",
   "execution_count": 2,
   "metadata": {},
   "outputs": [
    {
     "data": {
      "text/plain": [
       "[]"
      ]
     },
     "execution_count": 2,
     "metadata": {},
     "output_type": "execute_result"
    }
   ],
   "source": [
    "digx = [fp for fp in os.listdir('data') if 'DigX' in fp]\n",
    "digx"
   ]
  },
  {
   "cell_type": "code",
   "execution_count": 3,
   "metadata": {},
   "outputs": [],
   "source": [
    "group = defaultdict(list)"
   ]
  },
  {
   "cell_type": "code",
   "execution_count": 4,
   "metadata": {},
   "outputs": [],
   "source": [
    "pattern = r\"(DigX_\\d+_\\d+)\""
   ]
  },
  {
   "cell_type": "code",
   "execution_count": 5,
   "metadata": {},
   "outputs": [],
   "source": [
    "for fp in digx:\n",
    "    match = re.match(pattern, fp)\n",
    "    group[match.group(1)].append(fp)"
   ]
  },
  {
   "cell_type": "code",
   "execution_count": 6,
   "metadata": {},
   "outputs": [],
   "source": [
    "xray_images = os.listdir('image labelling inprocess')\n",
    "titles = [img.split('.')[0] for img in xray_images if 'DigX' in img]"
   ]
  },
  {
   "cell_type": "code",
   "execution_count": 7,
   "metadata": {},
   "outputs": [],
   "source": [
    "# find all images with masks and move them to our training dataset\n",
    "for img in os.listdir('image labelling inprocess'):\n",
    "    patient = img.split('.')[0]\n",
    "    if 'DigX' in img and patient in group.keys():\n",
    "        os.makedirs(f'train/{patient}', exist_ok=True)\n",
    "        os.makedirs(f'train/{patient}/images', exist_ok=True)\n",
    "        os.makedirs(f'train/{patient}/masks', exist_ok=True)\n",
    "        # shutil.move(f'image labelling inprocess/{img}', f'train/{patient}/images')"
   ]
  },
  {
   "cell_type": "code",
   "execution_count": 59,
   "metadata": {},
   "outputs": [],
   "source": [
    "for title in titles:\n",
    "    if title in group.keys():\n",
    "        rel_masks = group[title]\n",
    "        for mask in rel_masks:\n",
    "            shutil.move(f'data/{mask}', f'train/{title}/masks/{mask}')"
   ]
  },
  {
   "cell_type": "code",
   "execution_count": null,
   "metadata": {},
   "outputs": [],
   "source": []
  }
 ],
 "metadata": {
  "kernelspec": {
   "display_name": "Python 3",
   "language": "python",
   "name": "python3"
  },
  "language_info": {
   "codemirror_mode": {
    "name": "ipython",
    "version": 3
   },
   "file_extension": ".py",
   "mimetype": "text/x-python",
   "name": "python",
   "nbconvert_exporter": "python",
   "pygments_lexer": "ipython3",
   "version": "3.11.7"
  }
 },
 "nbformat": 4,
 "nbformat_minor": 2
}
