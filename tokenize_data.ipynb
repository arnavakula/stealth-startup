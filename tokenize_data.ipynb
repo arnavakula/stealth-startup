{
 "cells": [
  {
   "cell_type": "code",
   "execution_count": 47,
   "metadata": {},
   "outputs": [],
   "source": [
    "import numpy as np\n",
    "import pandas as pd\n",
    "import os\n",
    "import tifffile as tiff\n",
    "from skimage.transform import resize\n",
    "import re\n",
    "from collections import defaultdict\n",
    "import shutil"
   ]
  },
  {
   "cell_type": "code",
   "execution_count": 11,
   "metadata": {},
   "outputs": [
    {
     "data": {
      "text/plain": [
       "['DigX_01012017_113154_root-canal-obturation.ome.tiff',\n",
       " 'DigX_01032016_174930_root-stumps.ome.tiff',\n",
       " 'DigX_01022016_131410_restoration.ome.tiff',\n",
       " 'DigX_01032016_174930_decay-caries.ome.tiff',\n",
       " 'DigX_01022016_113212_root-canal-obturation.ome.tiff',\n",
       " 'DigX_01012016_102315_pulp.ome.tiff',\n",
       " 'DigX_01012009_120804_pulp.ome.tiff',\n",
       " 'DigX_01032006_175914_restoration.ome.tiff',\n",
       " 'DigX_01022008_110918_pulp.ome.tiff',\n",
       " 'DigX_01012009_131431_pulp.ome.tiff',\n",
       " 'DigX_01022008_110918_decay-caries.ome.tiff',\n",
       " 'DigX_01022006_104640_restoration.ome.tiff',\n",
       " 'DigX_01012016_102315_root-canal-obturation.ome.tiff',\n",
       " 'DigX_01012017_113154_restoration.ome.tiff',\n",
       " 'DigX_01032009_192751_root-canal-obturation.ome.tiff',\n",
       " 'DigX_01012016_190837_decay-caries.ome.tiff',\n",
       " 'DigX_01032016_174930_restoration.ome.tiff',\n",
       " 'DigX_01012017_113154_pulp.ome.tiff',\n",
       " 'DigX_01012016_190837_pulp.ome.tiff',\n",
       " 'DigX_01022006_125030_pulp.ome.tiff',\n",
       " 'DigX_01032009_192751_bridge.ome.tiff',\n",
       " 'DigX_01022006_104508_restoration.ome.tiff',\n",
       " 'DigX_01022009_182436_pulp.ome.tiff',\n",
       " 'DigX_01032006_164727_pulp.ome.tiff',\n",
       " 'DigX_01012016_102315_restoration.ome.tiff',\n",
       " 'DigX_01012009_120804_root-stumps.ome.tiff',\n",
       " 'DigX_01022006_125030_restoration.ome.tiff',\n",
       " 'DigX_01022006_125030_periapical-lesion.ome.tiff',\n",
       " 'DigX_01022008_105431_decay-caries.ome.tiff',\n",
       " 'DigX_01032006_175914_pulp.ome.tiff',\n",
       " 'DigX_01022009_182436_restoration.ome.tiff',\n",
       " 'DigX_01032016_174930_root-canal-obturation.ome.tiff',\n",
       " 'DigX_01022009_182436_file.ome.tiff',\n",
       " 'DigX_01012009_131431_restoration.ome.tiff',\n",
       " 'DigX_01022006_125030_artefact.ome.tiff',\n",
       " 'DigX_01032006_164727_file.ome.tiff',\n",
       " 'DigX_01022006_142612_pulp.ome.tiff',\n",
       " 'DigX_01022016_131410_pulp.ome.tiff',\n",
       " 'DigX_01022008_105431_pulp.ome.tiff',\n",
       " 'DigX_01032006_164727_restoration.ome.tiff']"
      ]
     },
     "execution_count": 11,
     "metadata": {},
     "output_type": "execute_result"
    }
   ],
   "source": [
    "digx = [fp for fp in os.listdir('data') if 'DigX' in fp]\n",
    "digx"
   ]
  },
  {
   "cell_type": "code",
   "execution_count": 14,
   "metadata": {},
   "outputs": [],
   "source": [
    "group = defaultdict(list)"
   ]
  },
  {
   "cell_type": "code",
   "execution_count": 15,
   "metadata": {},
   "outputs": [],
   "source": [
    "pattern = r\"(DigX_\\d+_\\d+)\""
   ]
  },
  {
   "cell_type": "code",
   "execution_count": 17,
   "metadata": {},
   "outputs": [],
   "source": [
    "for fp in digx:\n",
    "    match = re.match(pattern, fp)\n",
    "    group[match.group(1)].append(fp)"
   ]
  },
  {
   "cell_type": "code",
   "execution_count": 32,
   "metadata": {},
   "outputs": [],
   "source": [
    "xray_images = os.listdir('image labelling inprocess')\n",
    "titles = [img.split('.')[0] for img in xray_images if 'DigX' in img]"
   ]
  },
  {
   "cell_type": "code",
   "execution_count": 52,
   "metadata": {},
   "outputs": [],
   "source": [
    "# find all images with masks and move them to our training dataset\n",
    "for img in os.listdir('image labelling inprocess'):\n",
    "    patient = img.split('.')[0]\n",
    "    if 'DigX' in img and patient in group.keys():\n",
    "        os.makedirs(f'train/{patient}', exist_ok=True)\n",
    "        os.makedirs(f'train/{patient}/images', exist_ok=True)\n",
    "        os.makedirs(f'train/{patient}/masks', exist_ok=True)\n",
    "        # shutil.move(f'image labelling inprocess/{img}', f'train/{patient}/images')"
   ]
  },
  {
   "cell_type": "code",
   "execution_count": 59,
   "metadata": {},
   "outputs": [],
   "source": [
    "for title in titles:\n",
    "    if title in group.keys():\n",
    "        rel_masks = group[title]\n",
    "        for mask in rel_masks:\n",
    "            shutil.move(f'data/{mask}', f'train/{title}/masks/{mask}')"
   ]
  },
  {
   "cell_type": "code",
   "execution_count": null,
   "metadata": {},
   "outputs": [],
   "source": []
  }
 ],
 "metadata": {
  "kernelspec": {
   "display_name": "Python 3",
   "language": "python",
   "name": "python3"
  },
  "language_info": {
   "codemirror_mode": {
    "name": "ipython",
    "version": 3
   },
   "file_extension": ".py",
   "mimetype": "text/x-python",
   "name": "python",
   "nbconvert_exporter": "python",
   "pygments_lexer": "ipython3",
   "version": "3.12.4"
  }
 },
 "nbformat": 4,
 "nbformat_minor": 2
}
